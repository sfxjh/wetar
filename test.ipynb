{
 "cells": [
  {
   "cell_type": "code",
   "execution_count": 27,
   "metadata": {},
   "outputs": [
    {
     "name": "stdout",
     "output_type": "stream",
     "text": [
      "torch.Size([8529, 10])\n",
      "tensor([0.0578, 0.0408, 0.0312,  ..., 0.1726, 0.0312, 0.3811], device='cuda:0')\n"
     ]
    }
   ],
   "source": [
    "import torch\n",
    "path = 'saved_models/mr_bert/l2rew-len128-epo10-batch32-sgd2e-05-augr0.4-augmtextfooler-eps1e-08-gloTrue-baseaugTrue-seed21-lrate2e-05-global_weights.pth'\n",
    "global_weights = torch.load(path)\n",
    "print(global_weights.shape)\n",
    "print(torch.max(global_weights,dim=1)[0])"
   ]
  },
  {
   "cell_type": "code",
   "execution_count": 31,
   "metadata": {},
   "outputs": [
    {
     "name": "stdout",
     "output_type": "stream",
     "text": [
      "       epoch   idx   weights\n",
      "0          1     1  0.031250\n",
      "1          2     2  0.000000\n",
      "2          3     3  0.057765\n",
      "3          4     4  0.000000\n",
      "4          5     5  0.000000\n",
      "...      ...   ...       ...\n",
      "85285      6  8525  0.000000\n",
      "85286      7  8526  0.000000\n",
      "85287      8  8527  0.000000\n",
      "85288      9  8528  0.000000\n",
      "85289     10  8529  0.000000\n",
      "\n",
      "[85290 rows x 3 columns]\n"
     ]
    }
   ],
   "source": [
    "\n",
    "import numpy as np\n",
    "epoch = 10\n",
    "idx_num = global_weights.size(0)\n",
    "\n",
    "weights = global_weights.view(-1).cpu().numpy()\n",
    "epochs = np.tile(np.array([i+1 for i in range(epoch)]), idx_num)\n",
    "idx = np.tile(np.array([i+1 for i in range(idx_num)]), epoch)\n",
    "\n",
    "weights_dict = {\n",
    "    \"epoch\":epochs,\n",
    "    \"idx\":idx,\n",
    "    \"weights\":weights,\n",
    "}\n",
    "\n",
    "from pandas import DataFrame\n",
    "df = DataFrame(weights_dict)\n",
    "print(df)"
   ]
  }
 ],
 "metadata": {
  "interpreter": {
   "hash": "282c5c6180f174695632d839fc5c1259c5937e3f27a0d0b3e506ed66d4df836d"
  },
  "kernelspec": {
   "display_name": "Python 3.8.11 64-bit ('xujh': conda)",
   "name": "python3"
  },
  "language_info": {
   "codemirror_mode": {
    "name": "ipython",
    "version": 3
   },
   "file_extension": ".py",
   "mimetype": "text/x-python",
   "name": "python",
   "nbconvert_exporter": "python",
   "pygments_lexer": "ipython3",
   "version": "3.8.11"
  },
  "orig_nbformat": 4
 },
 "nbformat": 4,
 "nbformat_minor": 2
}
